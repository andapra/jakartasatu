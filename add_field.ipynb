{
 "cells": [
  {
   "cell_type": "code",
   "execution_count": 39,
   "metadata": {},
   "outputs": [],
   "source": [
    "import arcpy\n",
    "import os\n"
   ]
  },
  {
   "cell_type": "code",
   "execution_count": 40,
   "metadata": {},
   "outputs": [],
   "source": [
    "fc_path = r'E:\\PROJECT\\JAKARTASATU\\JAKARTASATU_FINAL.gdb\\erase_rtrw_diss'"
   ]
  },
  {
   "cell_type": "code",
   "execution_count": 42,
   "metadata": {},
   "outputs": [
    {
     "data": {
      "text/html": [
       "<div class='gpresult'><h2>Messages</h2><div id='messages' data-messages='[\"Start Time: Wednesday, April 27, 2022 7:42:50 AM\",\"Adding NAMOBJ to erase_rtrw_diss...\",\"Adding ORDE01 to erase_rtrw_diss...\",\"Adding ORDE02 to erase_rtrw_diss...\",\"Adding ORDE03 to erase_rtrw_diss...\",\"Adding KODEKWS to erase_rtrw_diss...\",\"Adding JNSRPR to erase_rtrw_diss...\",\"Adding WADMPR to erase_rtrw_diss...\",\"Adding WADMKK to erase_rtrw_diss...\",\"Adding WADMKC to erase_rtrw_diss...\",\"Adding KKOP to erase_rtrw_diss...\",\"Adding KP2B to erase_rtrw_diss...\",\"Adding KRB03 to erase_rtrw_diss...\",\"Adding CAGBUD to erase_rtrw_diss...\",\"Adding RESAIR to erase_rtrw_diss...\",\"Adding KSMPDN to erase_rtrw_diss...\",\"Adding HANKAM to erase_rtrw_diss...\",\"Adding KKARST to erase_rtrw_diss...\",\"Adding PTBGMB to erase_rtrw_diss...\",\"Adding MGRSAT to erase_rtrw_diss...\",\"Adding RDBUMI to erase_rtrw_diss...\",\"Adding REMARK to erase_rtrw_diss...\",\"Adding LUASHA to erase_rtrw_diss...\",\"Adding WKMHA to erase_rtrw_diss...\",\"Adding TSS to erase_rtrw_diss...\",\"Adding MIGAS to erase_rtrw_diss...\",\"Adding APKINT to erase_rtrw_diss...\",\"Adding DLPI to erase_rtrw_diss...\",\"Adding PSSA to erase_rtrw_diss...\",\"Adding PKBL to erase_rtrw_diss...\",\"Adding KS to erase_rtrw_diss...\",\"Succeeded at Wednesday, April 27, 2022 7:42:51 AM (Elapsed Time: 0.69 seconds)\"]' data-show='true'><div id = 'default' /></div></div>"
      ],
      "text/plain": [
       "<Result 'E:\\\\PROJECT\\\\JAKARTASATU\\\\JAKARTASATU_FINAL.gdb\\\\erase_rtrw_diss'>"
      ]
     },
     "execution_count": 42,
     "metadata": {},
     "output_type": "execute_result"
    }
   ],
   "source": [
    "arcpy.management.AddFields(in_table=fc_path, field_description=[['NAMOBJ' ,\"TEXT\", 'Nama Objek' ,\"250\" ,\"\" ,\"\"],\n",
    "                            ['ORDE01' ,\"TEXT\", 'ORDE 1' ,\"250\" ,\"\" ,\"\"],\n",
    "                            ['ORDE02' ,\"TEXT\", 'ORDE 2' ,\"250\" ,\"\" ,\"\"],\n",
    "                           ['ORDE03' ,\"TEXT\", 'ORDE 3' ,\"250\" ,\"\" ,\"\"],\n",
    "                          ['KODEKWS' ,\"TEXT\", 'Kode Kawasan' ,\"250\" ,\"\" ,\"\"],\n",
    "                           ['JNSRPR' ,\"TEXT\", 'Jenis Rencana Pola Ruang' ,\"250\" ,\"\" ,\"\"],\n",
    "                           ['WADMPR' ,\"TEXT\", 'Wilayah Administrasi Provinsi' ,\"250\" ,\"\" ,\"\"],\n",
    "                           ['WADMKK' ,\"TEXT\", 'Wilayah Administrasi Kabupaten/Kota' ,\"250\" ,\"\" ,\"\"],\n",
    "                           ['WADMKC' ,\"TEXT\", 'Wilayah Administrasi Kecamatan' ,\"250\" ,\"\" ,\"\"],\n",
    "                           ['KKOP' ,\"TEXT\", 'Kawsan Keselamatan Operasi Penerbangan' ,\"250\" ,\"\" ,\"\"],\n",
    "                           ['KP2B' ,\"TEXT\", 'Kawasan Pertanian Pangan Berkelanjutan' ,\"250\" ,\"\" ,\"\"],\n",
    "                           ['KRB03' ,\"TEXT\", 'Kawasan Rawan Bencana' ,\"250\" ,\"\" ,\"\"],\n",
    "                           ['CAGBUD' ,\"TEXT\", 'Kawasan Cagar Budaya' ,\"250\" ,\"\" ,\"\"],\n",
    "                           ['RESAIR' ,\"TEXT\", 'Kawasan Resapan Air' ,\"250\" ,\"\" ,\"\"],\n",
    "                           ['KSMPDN' ,\"TEXT\", 'Kawasan Sempadan' ,\"250\" ,\"\" ,\"\"],\n",
    "                           ['HANKAM' ,\"TEXT\", 'Kawasan Pertahanan dan Keamanan' ,\"250\" ,\"\" ,\"\"],\n",
    "                           ['KKARST' ,\"TEXT\", 'Kawasan Karst' ,\"250\" ,\"\" ,\"\"],\n",
    "                           ['PTBGMB' ,\"TEXT\", 'Kawasan Pertambangan dan Batubara' ,\"250\" ,\"\" ,\"\"],\n",
    "                           ['MGRSAT' ,\"TEXT\", 'Kawasan Migrasi Satwa' ,\"250\" ,\"\" ,\"\"],\n",
    "                           ['RDBUMI' ,\"TEXT\", 'Ruang Dalam Bumi' ,\"250\" ,\"\" ,\"\"],\n",
    "                           ['REMARK' ,\"TEXT\", 'Catatan' ,\"250\" ,\"\" ,\"\"],\n",
    "                           ['LUASHA' ,\"LONG\", 'Luas Area' ,\"\" ,\"\" ,\"\"],\n",
    "                           ['WKMHA' ,\"TEXT\", 'Wilayah Kelola Masyarakat Hukum Adat' ,\"250\" ,\"\" ,\"\"],\n",
    "                           ['TSS' ,\"TEXT\", 'Bagian Pemisah Alur (TSS)' ,\"250\" ,\"\" ,\"\"],\n",
    "                           ['MIGAS' ,\"TEXT\", 'Wilayah Kerja Migas' ,\"250\" ,\"\" ,\"\"],\n",
    "                           ['APKINT' ,\"TEXT\", 'Area Perjanjian Kerjasama Internasional' ,\"250\" ,\"\" ,\"\"],\n",
    "                           ['DLPI' ,\"TEXT\", 'Daerah Larangan Penangkapan Ikan' ,\"250\" ,\"\" ,\"\"],\n",
    "                           ['PSSA' ,\"TEXT\", 'Area Sensitif (PSSA)' ,\"250\" ,\"\" ,\"\"],\n",
    "                           ['PKBL' ,\"TEXT\", 'Koridor Pipa/ Kabel Bawah Laut' ,\"250\" ,\"\" ,\"\"],\n",
    "                           ['KS' ,\"TEXT\", 'Kawasan Strategis' ,\"250\" ,\"\" ,\"\"]])"
   ]
  },
  {
   "cell_type": "code",
   "execution_count": null,
   "metadata": {},
   "outputs": [],
   "source": []
  }
 ],
 "metadata": {
  "kernelspec": {
   "display_name": "ArcGISPro",
   "language": "Python",
   "name": "python3"
  },
  "language_info": {
   "file_extension": ".py",
   "name": "python",
   "version": "3"
  }
 },
 "nbformat": 4,
 "nbformat_minor": 2
}
