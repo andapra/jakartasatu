{
 "cells": [
  {
   "cell_type": "code",
   "execution_count": 29,
   "metadata": {},
   "outputs": [],
   "source": [
    "import arcpy\n",
    "import os"
   ]
  },
  {
   "cell_type": "code",
   "execution_count": 30,
   "metadata": {},
   "outputs": [],
   "source": [
    "fc_path = r'E:\\PROJECT\\JAKARTASATU\\JAKARTASATU.gdb\\erase_rtrw_ketkhu'"
   ]
  },
  {
   "cell_type": "code",
   "execution_count": 31,
   "metadata": {},
   "outputs": [
    {
     "data": {
      "text/html": [
       "<div class='gpresult'><h2>Messages</h2><div id='messages' data-messages='[\"Start Time: Monday, May 16, 2022 6:30:52 PM\",\"Adding NAMOBJ_NEW to erase_rtrw_ketkhu...\",\"Adding ORDE01_NEW to erase_rtrw_ketkhu...\",\"Adding ORDE02_NEW to erase_rtrw_ketkhu...\",\"Adding ORDE03_NEW to erase_rtrw_ketkhu...\",\"Adding ORDE04_NEW to erase_rtrw_ketkhu...\",\"Adding KODEKWS_NEW to erase_rtrw_ketkhu...\",\"Adding JNSRPR_NEW to erase_rtrw_ketkhu...\",\"Adding WADMPR_NEW to erase_rtrw_ketkhu...\",\"Adding WADMKK_NEW to erase_rtrw_ketkhu...\",\"Adding WADMKC_NEW to erase_rtrw_ketkhu...\",\"Adding KKOP_NEW to erase_rtrw_ketkhu...\",\"Adding KP2B_NEW to erase_rtrw_ketkhu...\",\"Adding KRB03_NEW to erase_rtrw_ketkhu...\",\"Adding CAGBUD_NEW to erase_rtrw_ketkhu...\",\"Adding RESAIR_NEW to erase_rtrw_ketkhu...\",\"Adding KSMPDN_NEW to erase_rtrw_ketkhu...\",\"Adding HANKAM_NEW to erase_rtrw_ketkhu...\",\"Adding KKARST_NEW to erase_rtrw_ketkhu...\",\"Adding PTBGMB_NEW to erase_rtrw_ketkhu...\",\"Adding MGRSAT_NEW to erase_rtrw_ketkhu...\",\"Adding RDBUMI_NEW to erase_rtrw_ketkhu...\",\"Adding REMARK_NEW to erase_rtrw_ketkhu...\",\"Adding LUASHA_NEW to erase_rtrw_ketkhu...\",\"Adding WKMHA_NEW to erase_rtrw_ketkhu...\",\"Adding TSS_NEW to erase_rtrw_ketkhu...\",\"Adding MIGAS_NEW to erase_rtrw_ketkhu...\",\"Adding APKINT_NEW to erase_rtrw_ketkhu...\",\"Adding DLPI_NEW to erase_rtrw_ketkhu...\",\"Adding PSSA_NEW to erase_rtrw_ketkhu...\",\"Adding PKBL_NEW to erase_rtrw_ketkhu...\",\"Adding KS_NEW to erase_rtrw_ketkhu...\",\"Succeeded at Monday, May 16, 2022 6:31:03 PM (Elapsed Time: 10.24 seconds)\"]' data-show='true'><div id = 'default' /></div></div>"
      ],
      "text/plain": [
       "<Result 'E:\\\\PROJECT\\\\JAKARTASATU\\\\JAKARTASATU.gdb\\\\erase_rtrw_ketkhu'>"
      ]
     },
     "execution_count": 31,
     "metadata": {},
     "output_type": "execute_result"
    }
   ],
   "source": [
    "arcpy.management.AddFields(in_table=fc_path, field_description=[['NAMOBJ_NEW' ,\"TEXT\", 'Nama Objek' ,\"250\" ,\"\" ,\"\"],\n",
    "                            ['ORDE01_NEW' ,\"TEXT\", 'ORDE 1' ,\"250\" ,\"\" ,\"\"],\n",
    "                            ['ORDE02_NEW' ,\"TEXT\", 'ORDE 2' ,\"250\" ,\"\" ,\"\"],\n",
    "                            ['ORDE03_NEW' ,\"TEXT\", 'ORDE 3' ,\"250\" ,\"\" ,\"\"],\n",
    "                            ['ORDE04_NEW' ,\"TEXT\", 'ORDE 4' ,\"250\" ,\"\" ,\"\"],\n",
    "                          ['KODEKWS_NEW' ,\"TEXT\", 'Kode Kawasan' ,\"250\" ,\"\" ,\"\"],\n",
    "                           ['JNSRPR_NEW' ,\"TEXT\", 'Jenis Rencana Pola Ruang' ,\"250\" ,\"\" ,\"\"],\n",
    "                           ['WADMPR_NEW' ,\"TEXT\", 'Wilayah Administrasi Provinsi' ,\"250\" ,\"\" ,\"\"],\n",
    "                           ['WADMKK_NEW' ,\"TEXT\", 'Wilayah Administrasi Kabupaten/Kota' ,\"250\" ,\"\" ,\"\"],\n",
    "                           ['WADMKC_NEW' ,\"TEXT\", 'Wilayah Administrasi Kecamatan' ,\"250\" ,\"\" ,\"\"],\n",
    "                           ['KKOP_NEW' ,\"TEXT\", 'Kawasan Keselamatan Operasi Penerbangan' ,\"250\" ,\"\" ,\"\"],\n",
    "                           ['KP2B_NEW' ,\"TEXT\", 'Kawasan Pertanian Pangan Berkelanjutan' ,\"250\" ,\"\" ,\"\"],\n",
    "                           ['KRB03_NEW' ,\"TEXT\", 'Kawasan Rawan Bencana' ,\"250\" ,\"\" ,\"\"],\n",
    "                           ['CAGBUD_NEW' ,\"TEXT\", 'Kawasan Cagar Budaya' ,\"250\" ,\"\" ,\"\"],\n",
    "                           ['RESAIR_NEW' ,\"TEXT\", 'Kawasan Resapan Air' ,\"250\" ,\"\" ,\"\"],\n",
    "                           ['KSMPDN_NEW' ,\"TEXT\", 'Kawasan Sempadan' ,\"250\" ,\"\" ,\"\"],\n",
    "                           ['HANKAM_NEW' ,\"TEXT\", 'Kawasan Pertahanan dan Keamanan' ,\"250\" ,\"\" ,\"\"],\n",
    "                           ['KKARST_NEW' ,\"TEXT\", 'Kawasan Karst' ,\"250\" ,\"\" ,\"\"],\n",
    "                           ['PTBGMB_NEW' ,\"TEXT\", 'Kawasan Pertambangan dan Batubara' ,\"250\" ,\"\" ,\"\"],\n",
    "                           ['MGRSAT_NEW' ,\"TEXT\", 'Kawasan Migrasi Satwa' ,\"250\" ,\"\" ,\"\"],\n",
    "                           ['RDBUMI_NEW' ,\"TEXT\", 'Ruang Dalam Bumi' ,\"250\" ,\"\" ,\"\"],\n",
    "                           ['REMARK_NEW' ,\"TEXT\", 'Catatan' ,\"250\" ,\"\" ,\"\"],\n",
    "                           ['LUASHA_NEW' ,\"LONG\", 'Luas Area' ,\"\" ,\"\" ,\"\"],\n",
    "                           ['WKMHA_NEW' ,\"TEXT\", 'Wilayah Kelola Masyarakat Hukum Adat' ,\"250\" ,\"\" ,\"\"],\n",
    "                           ['TSS_NEW' ,\"TEXT\", 'Bagian Pemisah Alur (TSS)' ,\"250\" ,\"\" ,\"\"],\n",
    "                           ['MIGAS_NEW' ,\"TEXT\", 'Wilayah Kerja Migas' ,\"250\" ,\"\" ,\"\"],\n",
    "                           ['APKINT_NEW' ,\"TEXT\", 'Area Perjanjian Kerjasama Internasional' ,\"250\" ,\"\" ,\"\"],\n",
    "                           ['DLPI_NEW' ,\"TEXT\", 'Daerah Larangan Penangkapan Ikan' ,\"250\" ,\"\" ,\"\"],\n",
    "                           ['PSSA_NEW' ,\"TEXT\", 'Area Sensitif (PSSA)' ,\"250\" ,\"\" ,\"\"],\n",
    "                           ['PKBL_NEW' ,\"TEXT\", 'Koridor Pipa/ Kabel Bawah Laut' ,\"250\" ,\"\" ,\"\"],\n",
    "                           ['KS_NEW' ,\"TEXT\", 'Kawasan Strategis' ,\"250\" ,\"\" ,\"\"]])"
   ]
  },
  {
   "cell_type": "code",
   "execution_count": null,
   "metadata": {},
   "outputs": [],
   "source": []
  }
 ],
 "metadata": {
  "kernelspec": {
   "display_name": "ArcGISPro",
   "language": "Python",
   "name": "python3"
  },
  "language_info": {
   "file_extension": ".py",
   "name": "python",
   "version": "3"
  }
 },
 "nbformat": 4,
 "nbformat_minor": 2
}
