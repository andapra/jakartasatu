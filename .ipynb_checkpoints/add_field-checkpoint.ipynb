{
 "cells": [
  {
   "cell_type": "code",
   "execution_count": 39,
   "metadata": {},
   "outputs": [],
   "source": [
    "import arcpy\n",
    "import os\n"
   ]
  },
  {
   "cell_type": "code",
   "execution_count": 40,
   "metadata": {},
   "outputs": [],
   "source": [
    "fc_path = r'E:\\PROJECT\\JAKARTASATU\\JAKARTASATU_FINAL.gdb\\erase_rtrw_diss'"
   ]
  },
  {
   "cell_type": "code",
   "execution_count": 41,
   "metadata": {},
   "outputs": [
    {
     "ename": "TypeError",
     "evalue": "list indices must be integers or slices, not tuple",
     "output_type": "error",
     "traceback": [
      "\u001b[0;31m---------------------------------------------------------------------------\u001b[0m\n\u001b[0;31mTypeError\u001b[0m                                 Traceback (most recent call last)",
      "In  \u001b[0;34m[41]\u001b[0m:\nLine \u001b[0;34m15\u001b[0m:    [\u001b[33m'\u001b[39;49;00m\u001b[33mKSMPDN\u001b[39;49;00m\u001b[33m'\u001b[39;49;00m ,\u001b[33m\"\u001b[39;49;00m\u001b[33mTEXT\u001b[39;49;00m\u001b[33m\"\u001b[39;49;00m, \u001b[33m'\u001b[39;49;00m\u001b[33mKawasan Sempadan\u001b[39;49;00m\u001b[33m'\u001b[39;49;00m ,\u001b[33m\"\u001b[39;49;00m\u001b[33m250\u001b[39;49;00m\u001b[33m\"\u001b[39;49;00m ,\u001b[33m\"\u001b[39;49;00m\u001b[33m\"\u001b[39;49;00m ,\u001b[33m\"\u001b[39;49;00m\u001b[33m\"\u001b[39;49;00m],\n",
      "\u001b[0;31mTypeError\u001b[0m: list indices must be integers or slices, not tuple\n\u001b[0;31m---------------------------------------------------------------------------\u001b[0m"
     ]
    }
   ],
   "source": [
    "arcpy.management.AddFields(fc_path, [['NAMOBJ' ,\"TEXT\", 'Nama Objek' ,\"250\" ,\"\" ,\"\"],\n",
    "                            ['ORDE01' ,\"TEXT\", 'ORDE 1' ,\"250\" ,\"\" ,\"\"],\n",
    "                            ['ORDE02' ,\"TEXT\", 'ORDE 2' ,\"250\" ,\"\" ,\"\"],\n",
    "                           ['ORDE03' ,\"TEXT\", 'ORDE 3' ,\"250\" ,\"\" ,\"\"],\n",
    "                          ['KODEKWS' ,\"TEXT\", 'Kode Kawasan' ,\"250\" ,\"\" ,\"\"],\n",
    "                           ['JNSRPR' ,\"TEXT\", 'Jenis Rencana Pola Ruang' ,\"250\" ,\"\" ,\"\"],\n",
    "                           ['WADMPR' ,\"TEXT\", 'Wilayah Administrasi Provinsi' ,\"250\" ,\"\" ,\"\"],\n",
    "                           ['WADMKK' ,\"TEXT\", 'Wilayah Administrasi Kabupaten/Kota' ,\"250\" ,\"\" ,\"\"],\n",
    "                           ['WADMKC' ,\"TEXT\", 'Wilayah Administrasi Kecamatan' ,\"250\" ,\"\" ,\"\"],\n",
    "                           ['KKOP' ,\"TEXT\", 'Kawsan Keselamatan Operasi Penerbangan' ,\"250\" ,\"\" ,\"\"],\n",
    "                           ['KP2B' ,\"TEXT\", 'Kawasan Pertanian Pangan Berkelanjutan' ,\"250\" ,\"\" ,\"\"],\n",
    "                           ['KRB03' ,\"TEXT\", 'Kawasan Rawan Bencana' ,\"250\" ,\"\" ,\"\"],\n",
    "                           ['CAGBUD' ,\"TEXT\", 'Kawasan Cagar Budaya' ,\"250\" ,\"\" ,\"\"],\n",
    "                           ['RESAIR' ,\"TEXT\", 'Kawasan Resapan Air' ,\"250\" ,\"\" ,\"\"]\n",
    "                           ['KSMPDN' ,\"TEXT\", 'Kawasan Sempadan' ,\"250\" ,\"\" ,\"\"],\n",
    "                           ['HANKAM' ,\"TEXT\", 'Kawasan Pertahanan dan Keamanan' ,\"250\" ,\"\" ,\"\"],\n",
    "                           ['KKARST' ,\"TEXT\", 'Kawasan Karst' ,\"250\" ,\"\" ,\"\"],\n",
    "                           ['PTBGMB' ,\"TEXT\", 'Kawasan Pertambangan dan Batubara' ,\"250\" ,\"\" ,\"\"],\n",
    "                           ['MGRSAT' ,\"TEXT\", 'Kawasan Migrasi Satwa' ,\"250\" ,\"\" ,\"\"],\n",
    "                           ['RDBUMI' ,\"TEXT\", 'Ruang Dalam Bumi' ,\"250\" ,\"\" ,\"\"],\n",
    "                           ['REMARK' ,\"TEXT\", 'Catatan' ,\"250\" ,\"\" ,\"\"],\n",
    "                           ['LUASHA' ,\"LONG\", 'Luas Area' ,\"\" ,\"\" ,\"\"],\n",
    "                           ['WKMHA' ,\"TEXT\", 'Wilayah Kelola Masyarakat Hukum Adat' ,\"250\" ,\"\" ,\"\"],\n",
    "                           ['TSS' ,\"TEXT\", 'Bagian Pemisah Alur (TSS)' ,\"250\" ,\"\" ,\"\"],\n",
    "                           ['MIGAS' ,\"TEXT\", 'Wilayah Kerja Migas' ,\"250\" ,\"\" ,\"\"],\n",
    "                           ['APKINT' ,\"TEXT\", 'Area Perjanjian Kerjasama Internasional' ,\"250\" ,\"\" ,\"\"],\n",
    "                           ['DLPI' ,\"TEXT\", 'Daerah Larangan Penangkapan Ikan' ,\"250\" ,\"\" ,\"\"],\n",
    "                           ['PSSA' ,\"TEXT\", 'Area Sensitif (PSSA)' ,\"250\" ,\"\" ,\"\"],\n",
    "                           ['PKBL' ,\"TEXT\", 'Koridor Pipa/ Kabel Bawah Laut' ,\"250\" ,\"\" ,\"\"],\n",
    "                           ['KS' ,\"TEXT\", 'Kawasan Strategis' ,\"250\" ,\"\" ,\"\"]])"
   ]
  },
  {
   "cell_type": "code",
   "execution_count": null,
   "metadata": {},
   "outputs": [],
   "source": []
  }
 ],
 "metadata": {
  "kernelspec": {
   "display_name": "ArcGISPro",
   "language": "Python",
   "name": "python3"
  },
  "language_info": {
   "file_extension": ".py",
   "name": "python",
   "version": "3"
  }
 },
 "nbformat": 4,
 "nbformat_minor": 2
}
