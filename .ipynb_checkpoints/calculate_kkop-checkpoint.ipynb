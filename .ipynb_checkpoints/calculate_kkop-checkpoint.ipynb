{
 "cells": [
  {
   "cell_type": "code",
   "execution_count": 1,
   "metadata": {},
   "outputs": [],
   "source": [
    "import arcpy\n",
    "import os\n",
    "arcpy.env.overwriteOutput = True\n",
    "workspace = r'E:\\PROJECT\\JAKARTASATU'"
   ]
  },
  {
   "cell_type": "code",
   "execution_count": 2,
   "metadata": {},
   "outputs": [],
   "source": [
    "fc_main = os.path.join(workspace, 'JAKARTASATU.gdb', 'new_rdtr_obj1_2')\n",
    "kkop_shp = os.path.join(workspace, 'JAKARTASATU.gdb', 'KKOP_singlepart')"
   ]
  },
  {
   "cell_type": "code",
   "execution_count": 4,
   "metadata": {},
   "outputs": [],
   "source": [
    "import arcpy\n",
    "\n",
    "KKOP = kkop_shp\n",
    "new_rdtr_obj1_2 = fc_main\n",
    "\n",
    "list_value = ['Kawasan Di Bawah Permukaan Horizontal Luar','Kawasan Di Bawah Permukaan Kerucut',\n",
    "              'Kawasan Di Bawah Permukaan Horizontal Dalam',\n",
    "              'Kawasan Ancangan Pendaratan dan Lepas Landas','Kawasan Di Bawah Permukaan Transisi',\n",
    "              'Kawasan Kemungkinan Bahaya Kecelakaan','Landas Pacu']\n",
    "\n",
    "for value in list_value:\n",
    "    # Process: Select Layer By Attribute (Select Layer By Attribute) (management)\n",
    "    \n",
    "    query_cmd = \"KKOP_1 = '{}'\".format(value)\n",
    "    KKOP_2_, Count = arcpy.management.SelectLayerByAttribute(in_layer_or_view=KKOP, \n",
    "                                                             selection_type=\"NEW_SELECTION\", \n",
    "                                                             where_clause=query_cmd, \n",
    "                                                             invert_where_clause=\"\")\n",
    "\n",
    "    # Process: Select Layer By Location (Select Layer By Location) (management)\n",
    "    Layer_With_Selection, Output_Layer_Names, Count_2_ = arcpy.management.SelectLayerByLocation(in_layer=[new_rdtr_obj1_2], \n",
    "                                                                                                overlap_type=\"HAVE_THEIR_CENTER_IN\", \n",
    "                                                                                                select_features=KKOP_2_, \n",
    "                                                                                                search_distance=\"\", \n",
    "                                                                                                selection_type=\"NEW_SELECTION\", \n",
    "                                                                                                invert_spatial_relationship=\"NOT_INVERT\")\n",
    "\n",
    "    # Process: Calculate Field (Calculate Field) (management)\n",
    "    new_rdtr_obj1_2_2_ = arcpy.management.CalculateField(in_table=Layer_With_Selection, field=\"KKOP_NEW\", \n",
    "                                                     expression=\"'{}'\".format(value), \n",
    "                                                     expression_type=\"PYTHON3\", code_block=\"\", field_type=\"TEXT\", \n",
    "                                                     enforce_domains=\"NO_ENFORCE_DOMAINS\")[0]"
   ]
  },
  {
   "cell_type": "code",
   "execution_count": null,
   "metadata": {},
   "outputs": [],
   "source": []
  }
 ],
 "metadata": {
  "kernelspec": {
   "display_name": "ArcGISPro",
   "language": "Python",
   "name": "python3"
  },
  "language_info": {
   "file_extension": ".py",
   "name": "python",
   "version": "3"
  }
 },
 "nbformat": 4,
 "nbformat_minor": 2
}
