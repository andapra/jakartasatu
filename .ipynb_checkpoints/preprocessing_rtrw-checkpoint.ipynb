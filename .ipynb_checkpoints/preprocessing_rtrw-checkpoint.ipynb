{
 "cells": [
  {
   "cell_type": "code",
   "execution_count": 1,
   "metadata": {},
   "outputs": [],
   "source": [
    "import arcpy\n",
    "import arcgis\n",
    "import os\n",
    "from datetime import datetime\n",
    "import pandas as pd"
   ]
  },
  {
   "cell_type": "code",
   "execution_count": 2,
   "metadata": {},
   "outputs": [
    {
     "data": {
      "text/plain": [
       "'E:\\\\PROJECT\\\\JAKARTASATU'"
      ]
     },
     "execution_count": 2,
     "metadata": {},
     "output_type": "execute_result"
    }
   ],
   "source": [
    "workspace = r'E:\\PROJECT\\JAKARTASATU'\n",
    "workspace"
   ]
  },
  {
   "cell_type": "code",
   "execution_count": 3,
   "metadata": {},
   "outputs": [
    {
     "data": {
      "text/plain": [
       "['1.Pola Ruang RTRW', '2.Pola Ruang RDTR', '3.Hasil Union', '4.Ketentuan Khusus', '5.Badan Jalan', 'Kodefikasi.xlsx', 'Layer Simbolisasi Pola Ruang']"
      ]
     },
     "execution_count": 3,
     "metadata": {},
     "output_type": "execute_result"
    }
   ],
   "source": [
    "os.listdir(os.path.join(workspace, 'RTRW Jakarta'))"
   ]
  },
  {
   "cell_type": "code",
   "execution_count": 7,
   "metadata": {},
   "outputs": [
    {
     "data": {
      "text/plain": [
       "'E:\\\\PROJECT\\\\JAKARTASATU\\\\JAKARTASATU.gdb\\\\rtrw_dissolve'"
      ]
     },
     "execution_count": 7,
     "metadata": {},
     "output_type": "execute_result"
    }
   ],
   "source": [
    "rtrw = os.path.join(workspace, 'JAKARTASATU.gdb', 'rtrw_dissolve')\n",
    "rtrw"
   ]
  },
  {
   "cell_type": "code",
   "execution_count": 16,
   "metadata": {
    "scrolled": true
   },
   "outputs": [
    {
     "data": {
      "text/html": [
       "<div>\n",
       "<style scoped>\n",
       "    .dataframe tbody tr th:only-of-type {\n",
       "        vertical-align: middle;\n",
       "    }\n",
       "\n",
       "    .dataframe tbody tr th {\n",
       "        vertical-align: top;\n",
       "    }\n",
       "\n",
       "    .dataframe thead th {\n",
       "        text-align: right;\n",
       "    }\n",
       "</style>\n",
       "<table border=\"1\" class=\"dataframe\">\n",
       "  <thead>\n",
       "    <tr style=\"text-align: right;\">\n",
       "      <th></th>\n",
       "      <th>FID</th>\n",
       "      <th>ORDE04</th>\n",
       "      <th>Shape_Leng</th>\n",
       "      <th>Shape_Area</th>\n",
       "      <th>d_ORDE04</th>\n",
       "      <th>SHAPE</th>\n",
       "    </tr>\n",
       "  </thead>\n",
       "  <tbody>\n",
       "    <tr>\n",
       "      <th>0</th>\n",
       "      <td>0</td>\n",
       "      <td>31010000</td>\n",
       "      <td>7.683557</td>\n",
       "      <td>0.001267</td>\n",
       "      <td>Badan Air</td>\n",
       "      <td>{\"hasZ\": true, \"hasM\": true, \"rings\": [[[106.7...</td>\n",
       "    </tr>\n",
       "    <tr>\n",
       "      <th>1</th>\n",
       "      <td>1</td>\n",
       "      <td>31021000</td>\n",
       "      <td>0.106364</td>\n",
       "      <td>0.000040</td>\n",
       "      <td>Kawasan Hutan Lindung</td>\n",
       "      <td>{\"hasZ\": true, \"hasM\": true, \"rings\": [[[106.7...</td>\n",
       "    </tr>\n",
       "    <tr>\n",
       "      <th>2</th>\n",
       "      <td>2</td>\n",
       "      <td>31030000</td>\n",
       "      <td>0.691165</td>\n",
       "      <td>0.000149</td>\n",
       "      <td>Kawasan Perlindungan Setempat</td>\n",
       "      <td>{\"hasZ\": true, \"hasM\": true, \"rings\": [[[106.9...</td>\n",
       "    </tr>\n",
       "    <tr>\n",
       "      <th>3</th>\n",
       "      <td>3</td>\n",
       "      <td>31031000</td>\n",
       "      <td>8.937656</td>\n",
       "      <td>0.002763</td>\n",
       "      <td>Ruang Terbuka Hijau</td>\n",
       "      <td>{\"hasZ\": true, \"hasM\": true, \"rings\": [[[106.8...</td>\n",
       "    </tr>\n",
       "    <tr>\n",
       "      <th>4</th>\n",
       "      <td>4</td>\n",
       "      <td>31031200</td>\n",
       "      <td>0.723314</td>\n",
       "      <td>0.000596</td>\n",
       "      <td>Taman Kota</td>\n",
       "      <td>{\"hasZ\": true, \"hasM\": true, \"rings\": [[[106.7...</td>\n",
       "    </tr>\n",
       "    <tr>\n",
       "      <th>5</th>\n",
       "      <td>5</td>\n",
       "      <td>31031300</td>\n",
       "      <td>0.152848</td>\n",
       "      <td>0.000059</td>\n",
       "      <td>Taman Kecamatan</td>\n",
       "      <td>{\"hasZ\": true, \"hasM\": true, \"rings\": [[[106.7...</td>\n",
       "    </tr>\n",
       "    <tr>\n",
       "      <th>6</th>\n",
       "      <td>6</td>\n",
       "      <td>31031400</td>\n",
       "      <td>0.019681</td>\n",
       "      <td>0.000004</td>\n",
       "      <td>Taman Kelurahan</td>\n",
       "      <td>{\"hasZ\": true, \"hasM\": true, \"rings\": [[[106.8...</td>\n",
       "    </tr>\n",
       "    <tr>\n",
       "      <th>7</th>\n",
       "      <td>7</td>\n",
       "      <td>31031700</td>\n",
       "      <td>0.445131</td>\n",
       "      <td>0.000298</td>\n",
       "      <td>Pemakaman</td>\n",
       "      <td>{\"hasZ\": true, \"hasM\": true, \"rings\": [[[106.7...</td>\n",
       "    </tr>\n",
       "    <tr>\n",
       "      <th>8</th>\n",
       "      <td>8</td>\n",
       "      <td>31031800</td>\n",
       "      <td>0.893845</td>\n",
       "      <td>0.000197</td>\n",
       "      <td>Jalur Hijau</td>\n",
       "      <td>{\"hasZ\": true, \"hasM\": true, \"rings\": [[[106.7...</td>\n",
       "    </tr>\n",
       "    <tr>\n",
       "      <th>9</th>\n",
       "      <td>9</td>\n",
       "      <td>31041100</td>\n",
       "      <td>0.014437</td>\n",
       "      <td>0.000013</td>\n",
       "      <td>Cagar Alam</td>\n",
       "      <td>{\"hasZ\": true, \"hasM\": true, \"rings\": [[[106.6...</td>\n",
       "    </tr>\n",
       "  </tbody>\n",
       "</table>\n",
       "</div>"
      ],
      "text/plain": [
       "   FID  ...                                              SHAPE\n",
       "0    0  ...  {\"hasZ\": true, \"hasM\": true, \"rings\": [[[106.7...\n",
       "1    1  ...  {\"hasZ\": true, \"hasM\": true, \"rings\": [[[106.7...\n",
       "2    2  ...  {\"hasZ\": true, \"hasM\": true, \"rings\": [[[106.9...\n",
       "3    3  ...  {\"hasZ\": true, \"hasM\": true, \"rings\": [[[106.8...\n",
       "4    4  ...  {\"hasZ\": true, \"hasM\": true, \"rings\": [[[106.7...\n",
       "5    5  ...  {\"hasZ\": true, \"hasM\": true, \"rings\": [[[106.7...\n",
       "6    6  ...  {\"hasZ\": true, \"hasM\": true, \"rings\": [[[106.8...\n",
       "7    7  ...  {\"hasZ\": true, \"hasM\": true, \"rings\": [[[106.7...\n",
       "8    8  ...  {\"hasZ\": true, \"hasM\": true, \"rings\": [[[106.7...\n",
       "9    9  ...  {\"hasZ\": true, \"hasM\": true, \"rings\": [[[106.6...\n",
       "\n",
       "[10 rows x 6 columns]"
      ]
     },
     "execution_count": 16,
     "metadata": {},
     "output_type": "execute_result"
    }
   ],
   "source": [
    "sdf_rtrw = pd.DataFrame.spatial.from_featureclass(r'E:\\PROJECT\\JAKARTASATU\\new_rtrw_rdtr\\PolaRuang_RTRW_Dissolve.shp')\n",
    "sdf_rtrw.head(10)"
   ]
  },
  {
   "cell_type": "code",
   "execution_count": 5,
   "metadata": {},
   "outputs": [],
   "source": [
    "domains = arcpy.da.ListDomains(os.path.join(workspace, 'RTRW Jakarta', '1.Pola Ruang RTRW', 'Standar Basis Data Peta RTRW Kota.gdb'))\n",
    "list_domain_rtrw = {}\n",
    "for domain in domains:\n",
    "    get_domain_name = domain.name\n",
    "    if domain.domainType == 'CodedValue':\n",
    "        coded_values = domain.codedValues\n",
    "        list_domain_rtrw['{}'.format(get_domain_name)] = coded_values"
   ]
  },
  {
   "cell_type": "code",
   "execution_count": 6,
   "metadata": {},
   "outputs": [
    {
     "data": {
      "text/plain": [
       "dict_keys(['ORDE04PR', 'KKOP', 'ORDE02TRANSLN', 'KODKWS', 'SDTPTG', 'ORDE01PR', 'ORDE03TRANSLN', 'ORDE01ENERGIPT', 'ORDE02PR', 'ORDE03PR', 'JNSRPR', 'ORDE02TELELN', 'ORDE02SDAPT', 'KP2B', 'KRB', 'CAGBUD', 'ORDE03ENERGILN', 'RESAIR', 'KSMPDN', 'HANKAM', 'KKARST', 'PTBGMB', 'MGRSAT', 'RDBUMI', 'ORDE02ENERGIPT', 'ORDE03ENERGIPT', 'ORDE04ENERGIPT', 'ORDE04TRANSLN', 'JNSRSR', 'STSJRN', 'ORDE01PUSATPT', 'ORDE01TELELN', 'ORDE01ENERGILN', 'ORDE03PUSATPT', 'ORDE02ENERGILN', 'ORDE04ENERGILN', 'ORDE01INFRASLN', 'ORDE02INFRASLN', 'ORDE04INFRASPT', 'ORDE03INFRASLN', 'ORDE03INFRASPT', 'ORDE04INFRASLN', 'ORDE01INFRASPT', 'ORDE02INFRASPT', 'ORDE02TELEPT', 'ORDE02PUSATPT', 'ORDE04PUSATPT', 'ORDE01SDAPT', 'MIGAS', 'ORDE03SDAPT', 'ORDE04SDAPT', 'ORDE01SDALN', 'ORDE02SDALN', 'ORDE01TRANSLN', 'ORDE03SDALN', 'ORDE01TRANSPT', 'ORDE04SDALN', 'ORDE01TELEPT', 'ORDE03TELEPT', 'ORDE04TELEPT', 'ORDE03TELELN', 'ORDE04TELELN', 'ORDE02TRANSPT', 'ORDE03TRANSPT', 'ORDE04TRANSPT', 'WKMHA', 'TSS', 'APKINT', 'DLPI', 'PSSA', 'PKBL', 'KS', 'ORDE02TRANSLN_1', 'ORDE03TRANSLN_1', 'ORDE04TRANSLN_1'])"
      ]
     },
     "execution_count": 6,
     "metadata": {},
     "output_type": "execute_result"
    }
   ],
   "source": [
    "list_domain_rtrw.keys()"
   ]
  },
  {
   "cell_type": "code",
   "execution_count": 7,
   "metadata": {},
   "outputs": [],
   "source": [
    "# list_conv_str = ['ORDE01PR', 'ORDE02PR', 'ORDE03PR', 'ORDE04PR', 'KKOP', 'KP2B', 'KRB',\n",
    "#        'CAGBUD', 'RESAIR', 'KSMPDN', 'HANKAM', 'KKARST', 'PTBGMB', 'MGRSAT',\n",
    "#        'RDBUMI']\n",
    "list_conv_str = ['ORDE04PR']"
   ]
  },
  {
   "cell_type": "code",
   "execution_count": 8,
   "metadata": {},
   "outputs": [],
   "source": [
    "for subindex in list_conv_str:\n",
    "    for index, row in sdf_rtrw.iterrows():\n",
    "        get_column_value = row['{}'.format(subindex)]\n",
    "        get_domain = list_domain_rtrw['{}'.format(subindex)]\n",
    "        if get_column_value is not None:\n",
    "            if get_column_value in get_domain:\n",
    "                get_subvalue = get_domain[get_column_value]\n",
    "                sdf_rtrw.loc[index, '{}_conv'.format(subindex)] = get_subvalue\n",
    "        "
   ]
  },
  {
   "cell_type": "code",
   "execution_count": 9,
   "metadata": {},
   "outputs": [
    {
     "data": {
      "text/html": [
       "<div>\n",
       "<style scoped>\n",
       "    .dataframe tbody tr th:only-of-type {\n",
       "        vertical-align: middle;\n",
       "    }\n",
       "\n",
       "    .dataframe tbody tr th {\n",
       "        vertical-align: top;\n",
       "    }\n",
       "\n",
       "    .dataframe thead th {\n",
       "        text-align: right;\n",
       "    }\n",
       "</style>\n",
       "<table border=\"1\" class=\"dataframe\">\n",
       "  <thead>\n",
       "    <tr style=\"text-align: right;\">\n",
       "      <th></th>\n",
       "      <th>OBJECTID</th>\n",
       "      <th>ORDE04PR</th>\n",
       "      <th>SHAPE</th>\n",
       "      <th>ORDE04PR_conv</th>\n",
       "    </tr>\n",
       "  </thead>\n",
       "  <tbody>\n",
       "    <tr>\n",
       "      <th>0</th>\n",
       "      <td>1</td>\n",
       "      <td>31010000</td>\n",
       "      <td>{\"hasZ\": true, \"curveRings\": [[[106.8841621518...</td>\n",
       "      <td>Badan Air</td>\n",
       "    </tr>\n",
       "    <tr>\n",
       "      <th>1</th>\n",
       "      <td>2</td>\n",
       "      <td>31021000</td>\n",
       "      <td>{\"hasZ\": true, \"rings\": [[[106.7674159996975, ...</td>\n",
       "      <td>Kawasan Hutan Lindung</td>\n",
       "    </tr>\n",
       "    <tr>\n",
       "      <th>2</th>\n",
       "      <td>3</td>\n",
       "      <td>31030000</td>\n",
       "      <td>{\"hasZ\": true, \"curveRings\": [[[106.8838691203...</td>\n",
       "      <td>Kawasan Perlindungan Setempat</td>\n",
       "    </tr>\n",
       "    <tr>\n",
       "      <th>3</th>\n",
       "      <td>4</td>\n",
       "      <td>31031000</td>\n",
       "      <td>{\"hasZ\": true, \"curveRings\": [[[106.9012930575...</td>\n",
       "      <td>Ruang Terbuka Hijau</td>\n",
       "    </tr>\n",
       "    <tr>\n",
       "      <th>4</th>\n",
       "      <td>5</td>\n",
       "      <td>31031200</td>\n",
       "      <td>{\"hasZ\": true, \"curveRings\": [[[106.7951608733...</td>\n",
       "      <td>Taman Kota</td>\n",
       "    </tr>\n",
       "    <tr>\n",
       "      <th>5</th>\n",
       "      <td>6</td>\n",
       "      <td>31031300</td>\n",
       "      <td>{\"hasZ\": true, \"rings\": [[[106.90060335785, -6...</td>\n",
       "      <td>Taman Kecamatan</td>\n",
       "    </tr>\n",
       "    <tr>\n",
       "      <th>6</th>\n",
       "      <td>7</td>\n",
       "      <td>31031400</td>\n",
       "      <td>{\"hasZ\": true, \"rings\": [[[106.89728989000002,...</td>\n",
       "      <td>Taman Kelurahan</td>\n",
       "    </tr>\n",
       "    <tr>\n",
       "      <th>7</th>\n",
       "      <td>8</td>\n",
       "      <td>31031700</td>\n",
       "      <td>{\"hasZ\": true, \"rings\": [[[106.91495547159752,...</td>\n",
       "      <td>Pemakaman</td>\n",
       "    </tr>\n",
       "    <tr>\n",
       "      <th>8</th>\n",
       "      <td>9</td>\n",
       "      <td>31031800</td>\n",
       "      <td>{\"hasZ\": true, \"curveRings\": [[[106.7932093417...</td>\n",
       "      <td>Jalur Hijau</td>\n",
       "    </tr>\n",
       "    <tr>\n",
       "      <th>9</th>\n",
       "      <td>10</td>\n",
       "      <td>31041100</td>\n",
       "      <td>{\"hasZ\": true, \"rings\": [[[106.63152895771748,...</td>\n",
       "      <td>Cagar Alam</td>\n",
       "    </tr>\n",
       "  </tbody>\n",
       "</table>\n",
       "</div>"
      ],
      "text/plain": [
       "   OBJECTID  ORDE04PR                                              SHAPE  \\\n",
       "0         1  31010000  {\"hasZ\": true, \"curveRings\": [[[106.8841621518...   \n",
       "1         2  31021000  {\"hasZ\": true, \"rings\": [[[106.7674159996975, ...   \n",
       "2         3  31030000  {\"hasZ\": true, \"curveRings\": [[[106.8838691203...   \n",
       "3         4  31031000  {\"hasZ\": true, \"curveRings\": [[[106.9012930575...   \n",
       "4         5  31031200  {\"hasZ\": true, \"curveRings\": [[[106.7951608733...   \n",
       "5         6  31031300  {\"hasZ\": true, \"rings\": [[[106.90060335785, -6...   \n",
       "6         7  31031400  {\"hasZ\": true, \"rings\": [[[106.89728989000002,...   \n",
       "7         8  31031700  {\"hasZ\": true, \"rings\": [[[106.91495547159752,...   \n",
       "8         9  31031800  {\"hasZ\": true, \"curveRings\": [[[106.7932093417...   \n",
       "9        10  31041100  {\"hasZ\": true, \"rings\": [[[106.63152895771748,...   \n",
       "\n",
       "                   ORDE04PR_conv  \n",
       "0                      Badan Air  \n",
       "1          Kawasan Hutan Lindung  \n",
       "2  Kawasan Perlindungan Setempat  \n",
       "3            Ruang Terbuka Hijau  \n",
       "4                     Taman Kota  \n",
       "5                Taman Kecamatan  \n",
       "6                Taman Kelurahan  \n",
       "7                      Pemakaman  \n",
       "8                    Jalur Hijau  \n",
       "9                     Cagar Alam  "
      ]
     },
     "execution_count": 9,
     "metadata": {},
     "output_type": "execute_result"
    }
   ],
   "source": [
    "sdf_rtrw.head(10)"
   ]
  },
  {
   "cell_type": "code",
   "execution_count": 10,
   "metadata": {},
   "outputs": [
    {
     "data": {
      "text/plain": [
       "0                                       Badan Air\n",
       "1                           Kawasan Hutan Lindung\n",
       "2                   Kawasan Perlindungan Setempat\n",
       "3                             Ruang Terbuka Hijau\n",
       "4                                      Taman Kota\n",
       "5                                 Taman Kecamatan\n",
       "6                                 Taman Kelurahan\n",
       "7                                       Pemakaman\n",
       "8                                     Jalur Hijau\n",
       "9                                      Cagar Alam\n",
       "10                                Cagar Alam Laut\n",
       "11                               Suaka Margasatwa\n",
       "12                          Suaka Margasatwa Laut\n",
       "13                                 Taman Nasional\n",
       "14                              Taman Wisata Alam\n",
       "15                    Kawasan Konservasi Perairan\n",
       "16                     Kawasan Ekosistem Mangrove\n",
       "17                   Kawasan Hutan Produksi Tetap\n",
       "18                           Kawasan Hortikultura\n",
       "19                      Kawasan Perikanan Tangkap\n",
       "20                    Kawasan Perikanan Budi Daya\n",
       "21       Kawasan Pertambangan Minyak dan Gas Bumi\n",
       "22            Kawasan Pembangkitan Tenaga Listrik\n",
       "23                    Kawasan Peruntukan Industri\n",
       "24                             Kawasan Pariwisata\n",
       "25                              Kawasan Perumahan\n",
       "26    Kawasan Fasilitas Umum dan Fasilitas Sosial\n",
       "27                   Kawasan Perdagangan dan Jasa\n",
       "28                            Kawasan Perkantoran\n",
       "29                           Kawasan Transportasi\n",
       "30                Kawasan Pertahanan dan Keamanan\n",
       "Name: ORDE04PR_conv, dtype: object"
      ]
     },
     "execution_count": 10,
     "metadata": {},
     "output_type": "execute_result"
    }
   ],
   "source": [
    "# sdf_rtrw[['ORDE01PR_conv', 'ORDE02PR_conv',\n",
    "#        'ORDE03PR_conv', 'ORDE04PR_conv', 'KKOP_conv', 'KP2B_conv', 'KRB_conv',\n",
    "#        'CAGBUD_conv', 'RESAIR_conv', 'KSMPDN_conv', 'HANKAM_conv',\n",
    "#        'KKARST_conv', 'PTBGMB_conv', 'MGRSAT_conv', 'RDBUMI_conv']]\n",
    "sdf_rtrw['ORDE04PR_conv']"
   ]
  },
  {
   "cell_type": "code",
   "execution_count": 32,
   "metadata": {},
   "outputs": [
    {
     "data": {
      "text/plain": [
       "0        False\n",
       "1        False\n",
       "2        False\n",
       "3        False\n",
       "4        False\n",
       "         ...  \n",
       "14589    False\n",
       "14590    False\n",
       "14591    False\n",
       "14592    False\n",
       "14593    False\n",
       "Name: SHAPE, Length: 14594, dtype: bool"
      ]
     },
     "execution_count": 32,
     "metadata": {},
     "output_type": "execute_result"
    }
   ],
   "source": [
    "sdf_rtrw['SHAPE'].isna()"
   ]
  },
  {
   "cell_type": "code",
   "execution_count": 11,
   "metadata": {},
   "outputs": [
    {
     "data": {
      "text/plain": [
       "'E:\\\\PROJECT\\\\JAKARTASATU\\\\JAKARTASATU.gdb\\\\rtrw_diss_modified'"
      ]
     },
     "execution_count": 11,
     "metadata": {},
     "output_type": "execute_result"
    }
   ],
   "source": [
    "sdf_rtrw.spatial.to_featureclass(location=os.path.join(workspace, 'JAKARTASATU.gdb', 'rtrw_diss_modified'),overwrite=True,has_z=True, has_m=None, sanitize_columns=False)"
   ]
  },
  {
   "cell_type": "code",
   "execution_count": null,
   "metadata": {},
   "outputs": [],
   "source": []
  }
 ],
 "metadata": {
  "interpreter": {
   "hash": "5bedbca5dc541fb56396c6a48263a103cbb93568714795d63865c82c913723c3"
  },
  "kernelspec": {
   "display_name": "ArcGISPro",
   "language": "Python",
   "name": "python3"
  },
  "language_info": {
   "file_extension": ".py",
   "name": "python",
   "version": "3"
  }
 },
 "nbformat": 4,
 "nbformat_minor": 2
}
